{
  "cells": [
    {
      "cell_type": "markdown",
      "id": "d5620ee9-b1b8-4ec3-92e0-f00005377127",
      "metadata": {
        "id": "d5620ee9-b1b8-4ec3-92e0-f00005377127"
      },
      "source": [
        "# Sentiment Analysis\n",
        "\n",
        "Lets build a sentiment Analysis model, which can detect given a phrase/sentence, if its positive or negative"
      ]
    },
    {
      "cell_type": "code",
      "execution_count": null,
      "id": "4ef27a36-7bea-462c-a1d1-7a5bc1dd6dac",
      "metadata": {
        "id": "4ef27a36-7bea-462c-a1d1-7a5bc1dd6dac",
        "colab": {
          "base_uri": "https://localhost:8080/"
        },
        "outputId": "1c1c182b-1d78-4ab8-c2f8-4153afd7c856"
      },
      "outputs": [
        {
          "output_type": "stream",
          "name": "stderr",
          "text": [
            "[nltk_data] Downloading package averaged_perceptron_tagger to\n",
            "[nltk_data]     /root/nltk_data...\n",
            "[nltk_data]   Package averaged_perceptron_tagger is already up-to-\n",
            "[nltk_data]       date!\n"
          ]
        },
        {
          "output_type": "execute_result",
          "data": {
            "text/plain": [
              "True"
            ]
          },
          "metadata": {},
          "execution_count": 14
        }
      ],
      "source": [
        "## Import Libraries\n",
        "import numpy as np\n",
        "import pandas as pd\n",
        "import urllib.request\n",
        "import nltk\n",
        "import random\n",
        "from nltk.corpus import stopwords\n",
        "from nltk.corpus import movie_reviews\n",
        "from nltk.tag import pos_tag\n",
        "from nltk.tokenize import word_tokenize,sent_tokenize\n",
        "from nltk.probability import FreqDist\n"
      ]
    },
    {
      "cell_type": "markdown",
      "id": "98cd99bf-b591-4941-b6c1-c5037c08ced3",
      "metadata": {
        "id": "98cd99bf-b591-4941-b6c1-c5037c08ced3"
      },
      "source": [
        "## Dataset\n",
        "Sentiment Analysis is the process of computationally identifying and categorizing opinions expressed in a piece of text, especially in order to determine whether the writer’s attitude towards a particular topic, product, etc. is positive, negative, or neutral.\n",
        "\n",
        "This is a simple project of classifying the movie reviews as either positive or negative. We would be working on the ‘movie_reviews’ dataset in ntlk.corpus package\n",
        "\n"
      ]
    },
    {
      "cell_type": "code",
      "execution_count": null,
      "id": "b2960ce1-994a-43f0-8a14-b37a622dcdf1",
      "metadata": {
        "id": "b2960ce1-994a-43f0-8a14-b37a622dcdf1",
        "outputId": "0d55cbe2-279d-4155-d8ad-60b24100a020",
        "colab": {
          "base_uri": "https://localhost:8080/"
        }
      },
      "outputs": [
        {
          "output_type": "stream",
          "name": "stderr",
          "text": [
            "[nltk_data] Downloading package stopwords to /root/nltk_data...\n",
            "[nltk_data]   Package stopwords is already up-to-date!\n",
            "[nltk_data] Downloading package movie_reviews to /root/nltk_data...\n",
            "[nltk_data]   Package movie_reviews is already up-to-date!\n",
            "[nltk_data] Downloading package punkt to /root/nltk_data...\n",
            "[nltk_data]   Package punkt is already up-to-date!\n"
          ]
        },
        {
          "output_type": "execute_result",
          "data": {
            "text/plain": [
              "True"
            ]
          },
          "metadata": {},
          "execution_count": 15
        }
      ],
      "source": [
        "nltk.download([ \"stopwords\", \"movie_reviews\", \"punkt\"])"
      ]
    },
    {
      "cell_type": "code",
      "source": [
        "nltk.download('averaged_perceptron_tagger')"
      ],
      "metadata": {
        "colab": {
          "base_uri": "https://localhost:8080/"
        },
        "id": "sDIhC8RiP4tD",
        "outputId": "645a6cf2-637d-4324-de98-b17bd01346bf"
      },
      "id": "sDIhC8RiP4tD",
      "execution_count": null,
      "outputs": [
        {
          "output_type": "stream",
          "name": "stderr",
          "text": [
            "[nltk_data] Downloading package averaged_perceptron_tagger to\n",
            "[nltk_data]     /root/nltk_data...\n",
            "[nltk_data]   Package averaged_perceptron_tagger is already up-to-\n",
            "[nltk_data]       date!\n"
          ]
        },
        {
          "output_type": "execute_result",
          "data": {
            "text/plain": [
              "True"
            ]
          },
          "metadata": {},
          "execution_count": 16
        }
      ]
    },
    {
      "cell_type": "code",
      "source": [
        "\n",
        "\n",
        "# size of the corpus\n",
        "print(\"Total number of reviews in the corpus:\", len(movie_reviews.fileids()))\n",
        "\n",
        "# categories in the corpus\n",
        "print(\"Categories in the corpus:\", movie_reviews.categories())\n",
        "\n",
        "# number of positive and negative reviews\n",
        "num_pos_reviews = len(movie_reviews.fileids('pos'))\n",
        "num_neg_reviews = len(movie_reviews.fileids('neg'))\n",
        "print(\"Number of positive reviews:\", num_pos_reviews)\n",
        "print(\"Number of negative reviews:\", num_neg_reviews)\n",
        "\n",
        "# view a specific review\n",
        "review_text = movie_reviews.raw('neg/cv000_29416.txt')\n",
        "print(review_text)\n",
        "\n",
        "# tokenization of review\n",
        "\n",
        "tokens = word_tokenize(review_text)\n",
        "print(tokens)\n",
        "\n",
        "# part-of-speech (POS) tagging\n",
        "\n",
        "pos_tags = pos_tag(tokens)\n",
        "print(pos_tags)\n",
        "\n",
        "# create a list of all reviews in the corpus with their respective categories\n",
        "reviews = []\n",
        "for fileid in movie_reviews.fileids():\n",
        "    category = movie_reviews.categories(fileid)[0]\n",
        "    review = movie_reviews.raw(fileid)\n",
        "    reviews.append((review, category))\n",
        "    \n",
        "print(reviews[:2])    \n"
      ],
      "metadata": {
        "colab": {
          "base_uri": "https://localhost:8080/"
        },
        "id": "D3APx48DRi8W",
        "outputId": "dc522820-8317-4c1d-8c3f-c4e035775830"
      },
      "id": "D3APx48DRi8W",
      "execution_count": null,
      "outputs": [
        {
          "output_type": "stream",
          "name": "stderr",
          "text": [
            "[nltk_data] Downloading package movie_reviews to /root/nltk_data...\n",
            "[nltk_data]   Package movie_reviews is already up-to-date!\n"
          ]
        },
        {
          "output_type": "stream",
          "name": "stdout",
          "text": [
            "Total number of reviews in the corpus: 2000\n",
            "Categories in the corpus: ['neg', 'pos']\n",
            "Number of positive reviews: 1000\n",
            "Number of negative reviews: 1000\n",
            "plot : two teen couples go to a church party , drink and then drive . \n",
            "they get into an accident . \n",
            "one of the guys dies , but his girlfriend continues to see him in her life , and has nightmares . \n",
            "what's the deal ? \n",
            "watch the movie and \" sorta \" find out . . . \n",
            "critique : a mind-fuck movie for the teen generation that touches on a very cool idea , but presents it in a very bad package . \n",
            "which is what makes this review an even harder one to write , since i generally applaud films which attempt to break the mold , mess with your head and such ( lost highway & memento ) , but there are good and bad ways of making all types of films , and these folks just didn't snag this one correctly . \n",
            "they seem to have taken this pretty neat concept , but executed it terribly . \n",
            "so what are the problems with the movie ? \n",
            "well , its main problem is that it's simply too jumbled . \n",
            "it starts off \" normal \" but then downshifts into this \" fantasy \" world in which you , as an audience member , have no idea what's going on . \n",
            "there are dreams , there are characters coming back from the dead , there are others who look like the dead , there are strange apparitions , there are disappearances , there are a looooot of chase scenes , there are tons of weird things that happen , and most of it is simply not explained . \n",
            "now i personally don't mind trying to unravel a film every now and then , but when all it does is give me the same clue over and over again , i get kind of fed up after a while , which is this film's biggest problem . \n",
            "it's obviously got this big secret to hide , but it seems to want to hide it completely until its final five minutes . \n",
            "and do they make things entertaining , thrilling or even engaging , in the meantime ? \n",
            "not really . \n",
            "the sad part is that the arrow and i both dig on flicks like this , so we actually figured most of it out by the half-way point , so all of the strangeness after that did start to make a little bit of sense , but it still didn't the make the film all that more entertaining . \n",
            "i guess the bottom line with movies like this is that you should always make sure that the audience is \" into it \" even before they are given the secret password to enter your world of understanding . \n",
            "i mean , showing melissa sagemiller running away from visions for about 20 minutes throughout the movie is just plain lazy ! ! \n",
            "okay , we get it . . . there \n",
            "are people chasing her and we don't know who they are . \n",
            "do we really need to see it over and over again ? \n",
            "how about giving us different scenes offering further insight into all of the strangeness going down in the movie ? \n",
            "apparently , the studio took this film away from its director and chopped it up themselves , and it shows . \n",
            "there might've been a pretty decent teen mind-fuck movie in here somewhere , but i guess \" the suits \" decided that turning it into a music video with little edge , would make more sense . \n",
            "the actors are pretty good for the most part , although wes bentley just seemed to be playing the exact same character that he did in american beauty , only in a new neighborhood . \n",
            "but my biggest kudos go out to sagemiller , who holds her own throughout the entire film , and actually has you feeling her character's unraveling . \n",
            "overall , the film doesn't stick because it doesn't entertain , it's confusing , it rarely excites and it feels pretty redundant for most of its runtime , despite a pretty cool ending and explanation to all of the craziness that came before it . \n",
            "oh , and by the way , this is not a horror or teen slasher flick . . . it's \n",
            "just packaged to look that way because someone is apparently assuming that the genre is still hot with the kids . \n",
            "it also wrapped production two years ago and has been sitting on the shelves ever since . \n",
            "whatever . . . skip \n",
            "it ! \n",
            "where's joblo coming from ? \n",
            "a nightmare of elm street 3 ( 7/10 ) - blair witch 2 ( 7/10 ) - the crow ( 9/10 ) - the crow : salvation ( 4/10 ) - lost highway ( 10/10 ) - memento ( 10/10 ) - the others ( 9/10 ) - stir of echoes ( 8/10 ) \n",
            "\n",
            "['plot', ':', 'two', 'teen', 'couples', 'go', 'to', 'a', 'church', 'party', ',', 'drink', 'and', 'then', 'drive', '.', 'they', 'get', 'into', 'an', 'accident', '.', 'one', 'of', 'the', 'guys', 'dies', ',', 'but', 'his', 'girlfriend', 'continues', 'to', 'see', 'him', 'in', 'her', 'life', ',', 'and', 'has', 'nightmares', '.', 'what', \"'s\", 'the', 'deal', '?', 'watch', 'the', 'movie', 'and', '``', 'sorta', '``', 'find', 'out', '.', '.', '.', 'critique', ':', 'a', 'mind-fuck', 'movie', 'for', 'the', 'teen', 'generation', 'that', 'touches', 'on', 'a', 'very', 'cool', 'idea', ',', 'but', 'presents', 'it', 'in', 'a', 'very', 'bad', 'package', '.', 'which', 'is', 'what', 'makes', 'this', 'review', 'an', 'even', 'harder', 'one', 'to', 'write', ',', 'since', 'i', 'generally', 'applaud', 'films', 'which', 'attempt', 'to', 'break', 'the', 'mold', ',', 'mess', 'with', 'your', 'head', 'and', 'such', '(', 'lost', 'highway', '&', 'memento', ')', ',', 'but', 'there', 'are', 'good', 'and', 'bad', 'ways', 'of', 'making', 'all', 'types', 'of', 'films', ',', 'and', 'these', 'folks', 'just', 'did', \"n't\", 'snag', 'this', 'one', 'correctly', '.', 'they', 'seem', 'to', 'have', 'taken', 'this', 'pretty', 'neat', 'concept', ',', 'but', 'executed', 'it', 'terribly', '.', 'so', 'what', 'are', 'the', 'problems', 'with', 'the', 'movie', '?', 'well', ',', 'its', 'main', 'problem', 'is', 'that', 'it', \"'s\", 'simply', 'too', 'jumbled', '.', 'it', 'starts', 'off', '``', 'normal', '``', 'but', 'then', 'downshifts', 'into', 'this', '``', 'fantasy', '``', 'world', 'in', 'which', 'you', ',', 'as', 'an', 'audience', 'member', ',', 'have', 'no', 'idea', 'what', \"'s\", 'going', 'on', '.', 'there', 'are', 'dreams', ',', 'there', 'are', 'characters', 'coming', 'back', 'from', 'the', 'dead', ',', 'there', 'are', 'others', 'who', 'look', 'like', 'the', 'dead', ',', 'there', 'are', 'strange', 'apparitions', ',', 'there', 'are', 'disappearances', ',', 'there', 'are', 'a', 'looooot', 'of', 'chase', 'scenes', ',', 'there', 'are', 'tons', 'of', 'weird', 'things', 'that', 'happen', ',', 'and', 'most', 'of', 'it', 'is', 'simply', 'not', 'explained', '.', 'now', 'i', 'personally', 'do', \"n't\", 'mind', 'trying', 'to', 'unravel', 'a', 'film', 'every', 'now', 'and', 'then', ',', 'but', 'when', 'all', 'it', 'does', 'is', 'give', 'me', 'the', 'same', 'clue', 'over', 'and', 'over', 'again', ',', 'i', 'get', 'kind', 'of', 'fed', 'up', 'after', 'a', 'while', ',', 'which', 'is', 'this', 'film', \"'s\", 'biggest', 'problem', '.', 'it', \"'s\", 'obviously', 'got', 'this', 'big', 'secret', 'to', 'hide', ',', 'but', 'it', 'seems', 'to', 'want', 'to', 'hide', 'it', 'completely', 'until', 'its', 'final', 'five', 'minutes', '.', 'and', 'do', 'they', 'make', 'things', 'entertaining', ',', 'thrilling', 'or', 'even', 'engaging', ',', 'in', 'the', 'meantime', '?', 'not', 'really', '.', 'the', 'sad', 'part', 'is', 'that', 'the', 'arrow', 'and', 'i', 'both', 'dig', 'on', 'flicks', 'like', 'this', ',', 'so', 'we', 'actually', 'figured', 'most', 'of', 'it', 'out', 'by', 'the', 'half-way', 'point', ',', 'so', 'all', 'of', 'the', 'strangeness', 'after', 'that', 'did', 'start', 'to', 'make', 'a', 'little', 'bit', 'of', 'sense', ',', 'but', 'it', 'still', 'did', \"n't\", 'the', 'make', 'the', 'film', 'all', 'that', 'more', 'entertaining', '.', 'i', 'guess', 'the', 'bottom', 'line', 'with', 'movies', 'like', 'this', 'is', 'that', 'you', 'should', 'always', 'make', 'sure', 'that', 'the', 'audience', 'is', '``', 'into', 'it', '``', 'even', 'before', 'they', 'are', 'given', 'the', 'secret', 'password', 'to', 'enter', 'your', 'world', 'of', 'understanding', '.', 'i', 'mean', ',', 'showing', 'melissa', 'sagemiller', 'running', 'away', 'from', 'visions', 'for', 'about', '20', 'minutes', 'throughout', 'the', 'movie', 'is', 'just', 'plain', 'lazy', '!', '!', 'okay', ',', 'we', 'get', 'it', '.', '.', '.', 'there', 'are', 'people', 'chasing', 'her', 'and', 'we', 'do', \"n't\", 'know', 'who', 'they', 'are', '.', 'do', 'we', 'really', 'need', 'to', 'see', 'it', 'over', 'and', 'over', 'again', '?', 'how', 'about', 'giving', 'us', 'different', 'scenes', 'offering', 'further', 'insight', 'into', 'all', 'of', 'the', 'strangeness', 'going', 'down', 'in', 'the', 'movie', '?', 'apparently', ',', 'the', 'studio', 'took', 'this', 'film', 'away', 'from', 'its', 'director', 'and', 'chopped', 'it', 'up', 'themselves', ',', 'and', 'it', 'shows', '.', 'there', 'might', \"'ve\", 'been', 'a', 'pretty', 'decent', 'teen', 'mind-fuck', 'movie', 'in', 'here', 'somewhere', ',', 'but', 'i', 'guess', '``', 'the', 'suits', '``', 'decided', 'that', 'turning', 'it', 'into', 'a', 'music', 'video', 'with', 'little', 'edge', ',', 'would', 'make', 'more', 'sense', '.', 'the', 'actors', 'are', 'pretty', 'good', 'for', 'the', 'most', 'part', ',', 'although', 'wes', 'bentley', 'just', 'seemed', 'to', 'be', 'playing', 'the', 'exact', 'same', 'character', 'that', 'he', 'did', 'in', 'american', 'beauty', ',', 'only', 'in', 'a', 'new', 'neighborhood', '.', 'but', 'my', 'biggest', 'kudos', 'go', 'out', 'to', 'sagemiller', ',', 'who', 'holds', 'her', 'own', 'throughout', 'the', 'entire', 'film', ',', 'and', 'actually', 'has', 'you', 'feeling', 'her', 'character', \"'s\", 'unraveling', '.', 'overall', ',', 'the', 'film', 'does', \"n't\", 'stick', 'because', 'it', 'does', \"n't\", 'entertain', ',', 'it', \"'s\", 'confusing', ',', 'it', 'rarely', 'excites', 'and', 'it', 'feels', 'pretty', 'redundant', 'for', 'most', 'of', 'its', 'runtime', ',', 'despite', 'a', 'pretty', 'cool', 'ending', 'and', 'explanation', 'to', 'all', 'of', 'the', 'craziness', 'that', 'came', 'before', 'it', '.', 'oh', ',', 'and', 'by', 'the', 'way', ',', 'this', 'is', 'not', 'a', 'horror', 'or', 'teen', 'slasher', 'flick', '.', '.', '.', 'it', \"'s\", 'just', 'packaged', 'to', 'look', 'that', 'way', 'because', 'someone', 'is', 'apparently', 'assuming', 'that', 'the', 'genre', 'is', 'still', 'hot', 'with', 'the', 'kids', '.', 'it', 'also', 'wrapped', 'production', 'two', 'years', 'ago', 'and', 'has', 'been', 'sitting', 'on', 'the', 'shelves', 'ever', 'since', '.', 'whatever', '.', '.', '.', 'skip', 'it', '!', 'where', \"'s\", 'joblo', 'coming', 'from', '?', 'a', 'nightmare', 'of', 'elm', 'street', '3', '(', '7/10', ')', '-', 'blair', 'witch', '2', '(', '7/10', ')', '-', 'the', 'crow', '(', '9/10', ')', '-', 'the', 'crow', ':', 'salvation', '(', '4/10', ')', '-', 'lost', 'highway', '(', '10/10', ')', '-', 'memento', '(', '10/10', ')', '-', 'the', 'others', '(', '9/10', ')', '-', 'stir', 'of', 'echoes', '(', '8/10', ')']\n",
            "[('plot', 'NN'), (':', ':'), ('two', 'CD'), ('teen', 'NN'), ('couples', 'NNS'), ('go', 'VBP'), ('to', 'TO'), ('a', 'DT'), ('church', 'NN'), ('party', 'NN'), (',', ','), ('drink', 'NN'), ('and', 'CC'), ('then', 'RB'), ('drive', 'NN'), ('.', '.'), ('they', 'PRP'), ('get', 'VBP'), ('into', 'IN'), ('an', 'DT'), ('accident', 'NN'), ('.', '.'), ('one', 'CD'), ('of', 'IN'), ('the', 'DT'), ('guys', 'NN'), ('dies', 'VBZ'), (',', ','), ('but', 'CC'), ('his', 'PRP$'), ('girlfriend', 'NN'), ('continues', 'VBZ'), ('to', 'TO'), ('see', 'VB'), ('him', 'PRP'), ('in', 'IN'), ('her', 'PRP$'), ('life', 'NN'), (',', ','), ('and', 'CC'), ('has', 'VBZ'), ('nightmares', 'NNS'), ('.', '.'), ('what', 'WP'), (\"'s\", 'VBZ'), ('the', 'DT'), ('deal', 'NN'), ('?', '.'), ('watch', 'VB'), ('the', 'DT'), ('movie', 'NN'), ('and', 'CC'), ('``', '``'), ('sorta', 'JJ'), ('``', '``'), ('find', 'VB'), ('out', 'RP'), ('.', '.'), ('.', '.'), ('.', '.'), ('critique', 'NN'), (':', ':'), ('a', 'DT'), ('mind-fuck', 'JJ'), ('movie', 'NN'), ('for', 'IN'), ('the', 'DT'), ('teen', 'JJ'), ('generation', 'NN'), ('that', 'WDT'), ('touches', 'VBZ'), ('on', 'IN'), ('a', 'DT'), ('very', 'RB'), ('cool', 'JJ'), ('idea', 'NN'), (',', ','), ('but', 'CC'), ('presents', 'VBZ'), ('it', 'PRP'), ('in', 'IN'), ('a', 'DT'), ('very', 'RB'), ('bad', 'JJ'), ('package', 'NN'), ('.', '.'), ('which', 'WDT'), ('is', 'VBZ'), ('what', 'WP'), ('makes', 'VBZ'), ('this', 'DT'), ('review', 'NN'), ('an', 'DT'), ('even', 'RB'), ('harder', 'RBR'), ('one', 'CD'), ('to', 'TO'), ('write', 'VB'), (',', ','), ('since', 'IN'), ('i', 'NN'), ('generally', 'RB'), ('applaud', 'VBP'), ('films', 'NNS'), ('which', 'WDT'), ('attempt', 'VBP'), ('to', 'TO'), ('break', 'VB'), ('the', 'DT'), ('mold', 'NN'), (',', ','), ('mess', 'NN'), ('with', 'IN'), ('your', 'PRP$'), ('head', 'NN'), ('and', 'CC'), ('such', 'JJ'), ('(', '('), ('lost', 'VBN'), ('highway', 'NN'), ('&', 'CC'), ('memento', 'NN'), (')', ')'), (',', ','), ('but', 'CC'), ('there', 'EX'), ('are', 'VBP'), ('good', 'JJ'), ('and', 'CC'), ('bad', 'JJ'), ('ways', 'NNS'), ('of', 'IN'), ('making', 'VBG'), ('all', 'DT'), ('types', 'NNS'), ('of', 'IN'), ('films', 'NNS'), (',', ','), ('and', 'CC'), ('these', 'DT'), ('folks', 'NNS'), ('just', 'RB'), ('did', 'VBD'), (\"n't\", 'RB'), ('snag', 'VB'), ('this', 'DT'), ('one', 'CD'), ('correctly', 'RB'), ('.', '.'), ('they', 'PRP'), ('seem', 'VBP'), ('to', 'TO'), ('have', 'VB'), ('taken', 'VBN'), ('this', 'DT'), ('pretty', 'RB'), ('neat', 'JJ'), ('concept', 'NN'), (',', ','), ('but', 'CC'), ('executed', 'VBD'), ('it', 'PRP'), ('terribly', 'RB'), ('.', '.'), ('so', 'IN'), ('what', 'WP'), ('are', 'VBP'), ('the', 'DT'), ('problems', 'NNS'), ('with', 'IN'), ('the', 'DT'), ('movie', 'NN'), ('?', '.'), ('well', 'RB'), (',', ','), ('its', 'PRP$'), ('main', 'JJ'), ('problem', 'NN'), ('is', 'VBZ'), ('that', 'IN'), ('it', 'PRP'), (\"'s\", 'VBZ'), ('simply', 'RB'), ('too', 'RB'), ('jumbled', 'VBN'), ('.', '.'), ('it', 'PRP'), ('starts', 'VBZ'), ('off', 'IN'), ('``', '``'), ('normal', 'JJ'), ('``', '``'), ('but', 'CC'), ('then', 'RB'), ('downshifts', 'VBZ'), ('into', 'IN'), ('this', 'DT'), ('``', '``'), ('fantasy', 'JJ'), ('``', '``'), ('world', 'NN'), ('in', 'IN'), ('which', 'WDT'), ('you', 'PRP'), (',', ','), ('as', 'IN'), ('an', 'DT'), ('audience', 'NN'), ('member', 'NN'), (',', ','), ('have', 'VBP'), ('no', 'DT'), ('idea', 'NN'), ('what', 'WP'), (\"'s\", 'VBZ'), ('going', 'VBG'), ('on', 'IN'), ('.', '.'), ('there', 'EX'), ('are', 'VBP'), ('dreams', 'NNS'), (',', ','), ('there', 'EX'), ('are', 'VBP'), ('characters', 'NNS'), ('coming', 'VBG'), ('back', 'RB'), ('from', 'IN'), ('the', 'DT'), ('dead', 'JJ'), (',', ','), ('there', 'EX'), ('are', 'VBP'), ('others', 'NNS'), ('who', 'WP'), ('look', 'VBP'), ('like', 'IN'), ('the', 'DT'), ('dead', 'JJ'), (',', ','), ('there', 'EX'), ('are', 'VBP'), ('strange', 'JJ'), ('apparitions', 'NNS'), (',', ','), ('there', 'EX'), ('are', 'VBP'), ('disappearances', 'NNS'), (',', ','), ('there', 'EX'), ('are', 'VBP'), ('a', 'DT'), ('looooot', 'NN'), ('of', 'IN'), ('chase', 'NN'), ('scenes', 'NNS'), (',', ','), ('there', 'EX'), ('are', 'VBP'), ('tons', 'NNS'), ('of', 'IN'), ('weird', 'JJ'), ('things', 'NNS'), ('that', 'WDT'), ('happen', 'VBP'), (',', ','), ('and', 'CC'), ('most', 'JJS'), ('of', 'IN'), ('it', 'PRP'), ('is', 'VBZ'), ('simply', 'RB'), ('not', 'RB'), ('explained', 'VBN'), ('.', '.'), ('now', 'RB'), ('i', 'VBZ'), ('personally', 'RB'), ('do', 'VBP'), (\"n't\", 'RB'), ('mind', 'VB'), ('trying', 'VBG'), ('to', 'TO'), ('unravel', 'VB'), ('a', 'DT'), ('film', 'NN'), ('every', 'DT'), ('now', 'RB'), ('and', 'CC'), ('then', 'RB'), (',', ','), ('but', 'CC'), ('when', 'WRB'), ('all', 'DT'), ('it', 'PRP'), ('does', 'VBZ'), ('is', 'VBZ'), ('give', 'VB'), ('me', 'PRP'), ('the', 'DT'), ('same', 'JJ'), ('clue', 'NN'), ('over', 'IN'), ('and', 'CC'), ('over', 'RB'), ('again', 'RB'), (',', ','), ('i', 'JJ'), ('get', 'VBP'), ('kind', 'NN'), ('of', 'IN'), ('fed', 'VBN'), ('up', 'RP'), ('after', 'IN'), ('a', 'DT'), ('while', 'NN'), (',', ','), ('which', 'WDT'), ('is', 'VBZ'), ('this', 'DT'), ('film', 'NN'), (\"'s\", 'POS'), ('biggest', 'JJS'), ('problem', 'NN'), ('.', '.'), ('it', 'PRP'), (\"'s\", 'VBZ'), ('obviously', 'RB'), ('got', 'VBD'), ('this', 'DT'), ('big', 'JJ'), ('secret', 'NN'), ('to', 'TO'), ('hide', 'VB'), (',', ','), ('but', 'CC'), ('it', 'PRP'), ('seems', 'VBZ'), ('to', 'TO'), ('want', 'VB'), ('to', 'TO'), ('hide', 'VB'), ('it', 'PRP'), ('completely', 'RB'), ('until', 'IN'), ('its', 'PRP$'), ('final', 'JJ'), ('five', 'CD'), ('minutes', 'NNS'), ('.', '.'), ('and', 'CC'), ('do', 'VBP'), ('they', 'PRP'), ('make', 'VB'), ('things', 'NNS'), ('entertaining', 'VBG'), (',', ','), ('thrilling', 'VBG'), ('or', 'CC'), ('even', 'RB'), ('engaging', 'VBG'), (',', ','), ('in', 'IN'), ('the', 'DT'), ('meantime', 'NN'), ('?', '.'), ('not', 'RB'), ('really', 'RB'), ('.', '.'), ('the', 'DT'), ('sad', 'JJ'), ('part', 'NN'), ('is', 'VBZ'), ('that', 'IN'), ('the', 'DT'), ('arrow', 'NN'), ('and', 'CC'), ('i', 'VB'), ('both', 'DT'), ('dig', 'NN'), ('on', 'IN'), ('flicks', 'NNS'), ('like', 'IN'), ('this', 'DT'), (',', ','), ('so', 'IN'), ('we', 'PRP'), ('actually', 'RB'), ('figured', 'VBD'), ('most', 'JJS'), ('of', 'IN'), ('it', 'PRP'), ('out', 'RP'), ('by', 'IN'), ('the', 'DT'), ('half-way', 'JJ'), ('point', 'NN'), (',', ','), ('so', 'IN'), ('all', 'DT'), ('of', 'IN'), ('the', 'DT'), ('strangeness', 'NN'), ('after', 'IN'), ('that', 'DT'), ('did', 'VBD'), ('start', 'VB'), ('to', 'TO'), ('make', 'VB'), ('a', 'DT'), ('little', 'JJ'), ('bit', 'NN'), ('of', 'IN'), ('sense', 'NN'), (',', ','), ('but', 'CC'), ('it', 'PRP'), ('still', 'RB'), ('did', 'VBD'), (\"n't\", 'RB'), ('the', 'DT'), ('make', 'VB'), ('the', 'DT'), ('film', 'NN'), ('all', 'PDT'), ('that', 'IN'), ('more', 'JJR'), ('entertaining', 'NN'), ('.', '.'), ('i', 'NN'), ('guess', 'VBD'), ('the', 'DT'), ('bottom', 'JJ'), ('line', 'NN'), ('with', 'IN'), ('movies', 'NNS'), ('like', 'IN'), ('this', 'DT'), ('is', 'VBZ'), ('that', 'IN'), ('you', 'PRP'), ('should', 'MD'), ('always', 'RB'), ('make', 'VB'), ('sure', 'JJ'), ('that', 'IN'), ('the', 'DT'), ('audience', 'NN'), ('is', 'VBZ'), ('``', '``'), ('into', 'IN'), ('it', 'PRP'), ('``', '``'), ('even', 'RB'), ('before', 'IN'), ('they', 'PRP'), ('are', 'VBP'), ('given', 'VBN'), ('the', 'DT'), ('secret', 'JJ'), ('password', 'NN'), ('to', 'TO'), ('enter', 'VB'), ('your', 'PRP$'), ('world', 'NN'), ('of', 'IN'), ('understanding', 'VBG'), ('.', '.'), ('i', 'JJ'), ('mean', 'VBP'), (',', ','), ('showing', 'VBG'), ('melissa', 'JJ'), ('sagemiller', 'NN'), ('running', 'VBG'), ('away', 'RB'), ('from', 'IN'), ('visions', 'NNS'), ('for', 'IN'), ('about', 'IN'), ('20', 'CD'), ('minutes', 'NNS'), ('throughout', 'IN'), ('the', 'DT'), ('movie', 'NN'), ('is', 'VBZ'), ('just', 'RB'), ('plain', 'JJ'), ('lazy', 'JJ'), ('!', '.'), ('!', '.'), ('okay', 'NN'), (',', ','), ('we', 'PRP'), ('get', 'VBP'), ('it', 'PRP'), ('.', '.'), ('.', '.'), ('.', '.'), ('there', 'EX'), ('are', 'VBP'), ('people', 'NNS'), ('chasing', 'VBG'), ('her', 'PRP$'), ('and', 'CC'), ('we', 'PRP'), ('do', 'VBP'), (\"n't\", 'RB'), ('know', 'VB'), ('who', 'WP'), ('they', 'PRP'), ('are', 'VBP'), ('.', '.'), ('do', 'VBP'), ('we', 'PRP'), ('really', 'RB'), ('need', 'VB'), ('to', 'TO'), ('see', 'VB'), ('it', 'PRP'), ('over', 'IN'), ('and', 'CC'), ('over', 'RB'), ('again', 'RB'), ('?', '.'), ('how', 'WRB'), ('about', 'IN'), ('giving', 'VBG'), ('us', 'PRP'), ('different', 'JJ'), ('scenes', 'NNS'), ('offering', 'VBG'), ('further', 'JJ'), ('insight', 'NN'), ('into', 'IN'), ('all', 'DT'), ('of', 'IN'), ('the', 'DT'), ('strangeness', 'NN'), ('going', 'VBG'), ('down', 'RP'), ('in', 'IN'), ('the', 'DT'), ('movie', 'NN'), ('?', '.'), ('apparently', 'RB'), (',', ','), ('the', 'DT'), ('studio', 'NN'), ('took', 'VBD'), ('this', 'DT'), ('film', 'NN'), ('away', 'RB'), ('from', 'IN'), ('its', 'PRP$'), ('director', 'NN'), ('and', 'CC'), ('chopped', 'VBD'), ('it', 'PRP'), ('up', 'RP'), ('themselves', 'PRP'), (',', ','), ('and', 'CC'), ('it', 'PRP'), ('shows', 'VBZ'), ('.', '.'), ('there', 'EX'), ('might', 'MD'), (\"'ve\", 'VBP'), ('been', 'VBN'), ('a', 'DT'), ('pretty', 'JJ'), ('decent', 'JJ'), ('teen', 'JJ'), ('mind-fuck', 'JJ'), ('movie', 'NN'), ('in', 'IN'), ('here', 'RB'), ('somewhere', 'RB'), (',', ','), ('but', 'CC'), ('i', 'VBZ'), ('guess', 'VBP'), ('``', '``'), ('the', 'DT'), ('suits', 'NNS'), ('``', '``'), ('decided', 'VBD'), ('that', 'IN'), ('turning', 'VBG'), ('it', 'PRP'), ('into', 'IN'), ('a', 'DT'), ('music', 'NN'), ('video', 'NN'), ('with', 'IN'), ('little', 'JJ'), ('edge', 'NN'), (',', ','), ('would', 'MD'), ('make', 'VB'), ('more', 'JJR'), ('sense', 'NN'), ('.', '.'), ('the', 'DT'), ('actors', 'NNS'), ('are', 'VBP'), ('pretty', 'RB'), ('good', 'JJ'), ('for', 'IN'), ('the', 'DT'), ('most', 'JJS'), ('part', 'NN'), (',', ','), ('although', 'IN'), ('wes', 'JJ'), ('bentley', 'NN'), ('just', 'RB'), ('seemed', 'VBD'), ('to', 'TO'), ('be', 'VB'), ('playing', 'VBG'), ('the', 'DT'), ('exact', 'JJ'), ('same', 'JJ'), ('character', 'NN'), ('that', 'IN'), ('he', 'PRP'), ('did', 'VBD'), ('in', 'IN'), ('american', 'JJ'), ('beauty', 'NN'), (',', ','), ('only', 'RB'), ('in', 'IN'), ('a', 'DT'), ('new', 'JJ'), ('neighborhood', 'NN'), ('.', '.'), ('but', 'CC'), ('my', 'PRP$'), ('biggest', 'JJS'), ('kudos', 'NN'), ('go', 'VBP'), ('out', 'RP'), ('to', 'TO'), ('sagemiller', 'VB'), (',', ','), ('who', 'WP'), ('holds', 'VBZ'), ('her', 'PRP$'), ('own', 'JJ'), ('throughout', 'IN'), ('the', 'DT'), ('entire', 'JJ'), ('film', 'NN'), (',', ','), ('and', 'CC'), ('actually', 'RB'), ('has', 'VBZ'), ('you', 'PRP'), ('feeling', 'VBG'), ('her', 'PRP$'), ('character', 'NN'), (\"'s\", 'POS'), ('unraveling', 'NN'), ('.', '.'), ('overall', 'JJ'), (',', ','), ('the', 'DT'), ('film', 'NN'), ('does', 'VBZ'), (\"n't\", 'RB'), ('stick', 'VB'), ('because', 'IN'), ('it', 'PRP'), ('does', 'VBZ'), (\"n't\", 'RB'), ('entertain', 'VB'), (',', ','), ('it', 'PRP'), (\"'s\", 'VBZ'), ('confusing', 'VBG'), (',', ','), ('it', 'PRP'), ('rarely', 'RB'), ('excites', 'VBZ'), ('and', 'CC'), ('it', 'PRP'), ('feels', 'VBZ'), ('pretty', 'JJ'), ('redundant', 'NN'), ('for', 'IN'), ('most', 'JJS'), ('of', 'IN'), ('its', 'PRP$'), ('runtime', 'NN'), (',', ','), ('despite', 'IN'), ('a', 'DT'), ('pretty', 'JJ'), ('cool', 'NN'), ('ending', 'VBG'), ('and', 'CC'), ('explanation', 'NN'), ('to', 'TO'), ('all', 'DT'), ('of', 'IN'), ('the', 'DT'), ('craziness', 'NN'), ('that', 'WDT'), ('came', 'VBD'), ('before', 'IN'), ('it', 'PRP'), ('.', '.'), ('oh', 'UH'), (',', ','), ('and', 'CC'), ('by', 'IN'), ('the', 'DT'), ('way', 'NN'), (',', ','), ('this', 'DT'), ('is', 'VBZ'), ('not', 'RB'), ('a', 'DT'), ('horror', 'NN'), ('or', 'CC'), ('teen', 'JJ'), ('slasher', 'JJR'), ('flick', 'NN'), ('.', '.'), ('.', '.'), ('.', '.'), ('it', 'PRP'), (\"'s\", 'VBZ'), ('just', 'RB'), ('packaged', 'VBN'), ('to', 'TO'), ('look', 'VB'), ('that', 'DT'), ('way', 'NN'), ('because', 'IN'), ('someone', 'NN'), ('is', 'VBZ'), ('apparently', 'RB'), ('assuming', 'VBG'), ('that', 'IN'), ('the', 'DT'), ('genre', 'NN'), ('is', 'VBZ'), ('still', 'RB'), ('hot', 'JJ'), ('with', 'IN'), ('the', 'DT'), ('kids', 'NNS'), ('.', '.'), ('it', 'PRP'), ('also', 'RB'), ('wrapped', 'VBD'), ('production', 'NN'), ('two', 'CD'), ('years', 'NNS'), ('ago', 'RB'), ('and', 'CC'), ('has', 'VBZ'), ('been', 'VBN'), ('sitting', 'VBG'), ('on', 'IN'), ('the', 'DT'), ('shelves', 'NNS'), ('ever', 'RB'), ('since', 'IN'), ('.', '.'), ('whatever', 'NN'), ('.', '.'), ('.', '.'), ('.', '.'), ('skip', 'VB'), ('it', 'PRP'), ('!', '.'), ('where', 'WRB'), (\"'s\", 'POS'), ('joblo', 'NN'), ('coming', 'VBG'), ('from', 'IN'), ('?', '.'), ('a', 'DT'), ('nightmare', 'NN'), ('of', 'IN'), ('elm', 'JJ'), ('street', 'NN'), ('3', 'CD'), ('(', '('), ('7/10', 'CD'), (')', ')'), ('-', ':'), ('blair', 'NN'), ('witch', 'NN'), ('2', 'CD'), ('(', '('), ('7/10', 'CD'), (')', ')'), ('-', ':'), ('the', 'DT'), ('crow', 'NN'), ('(', '('), ('9/10', 'CD'), (')', ')'), ('-', ':'), ('the', 'DT'), ('crow', 'NN'), (':', ':'), ('salvation', 'NN'), ('(', '('), ('4/10', 'CD'), (')', ')'), ('-', ':'), ('lost', 'VBN'), ('highway', 'NN'), ('(', '('), ('10/10', 'CD'), (')', ')'), ('-', ':'), ('memento', 'NN'), ('(', '('), ('10/10', 'CD'), (')', ')'), ('-', ':'), ('the', 'DT'), ('others', 'NNS'), ('(', '('), ('9/10', 'CD'), (')', ')'), ('-', ':'), ('stir', 'NN'), ('of', 'IN'), ('echoes', 'NNS'), ('(', '('), ('8/10', 'CD'), (')', ')')]\n",
            "[('plot : two teen couples go to a church party , drink and then drive . \\nthey get into an accident . \\none of the guys dies , but his girlfriend continues to see him in her life , and has nightmares . \\nwhat\\'s the deal ? \\nwatch the movie and \" sorta \" find out . . . \\ncritique : a mind-fuck movie for the teen generation that touches on a very cool idea , but presents it in a very bad package . \\nwhich is what makes this review an even harder one to write , since i generally applaud films which attempt to break the mold , mess with your head and such ( lost highway & memento ) , but there are good and bad ways of making all types of films , and these folks just didn\\'t snag this one correctly . \\nthey seem to have taken this pretty neat concept , but executed it terribly . \\nso what are the problems with the movie ? \\nwell , its main problem is that it\\'s simply too jumbled . \\nit starts off \" normal \" but then downshifts into this \" fantasy \" world in which you , as an audience member , have no idea what\\'s going on . \\nthere are dreams , there are characters coming back from the dead , there are others who look like the dead , there are strange apparitions , there are disappearances , there are a looooot of chase scenes , there are tons of weird things that happen , and most of it is simply not explained . \\nnow i personally don\\'t mind trying to unravel a film every now and then , but when all it does is give me the same clue over and over again , i get kind of fed up after a while , which is this film\\'s biggest problem . \\nit\\'s obviously got this big secret to hide , but it seems to want to hide it completely until its final five minutes . \\nand do they make things entertaining , thrilling or even engaging , in the meantime ? \\nnot really . \\nthe sad part is that the arrow and i both dig on flicks like this , so we actually figured most of it out by the half-way point , so all of the strangeness after that did start to make a little bit of sense , but it still didn\\'t the make the film all that more entertaining . \\ni guess the bottom line with movies like this is that you should always make sure that the audience is \" into it \" even before they are given the secret password to enter your world of understanding . \\ni mean , showing melissa sagemiller running away from visions for about 20 minutes throughout the movie is just plain lazy ! ! \\nokay , we get it . . . there \\nare people chasing her and we don\\'t know who they are . \\ndo we really need to see it over and over again ? \\nhow about giving us different scenes offering further insight into all of the strangeness going down in the movie ? \\napparently , the studio took this film away from its director and chopped it up themselves , and it shows . \\nthere might\\'ve been a pretty decent teen mind-fuck movie in here somewhere , but i guess \" the suits \" decided that turning it into a music video with little edge , would make more sense . \\nthe actors are pretty good for the most part , although wes bentley just seemed to be playing the exact same character that he did in american beauty , only in a new neighborhood . \\nbut my biggest kudos go out to sagemiller , who holds her own throughout the entire film , and actually has you feeling her character\\'s unraveling . \\noverall , the film doesn\\'t stick because it doesn\\'t entertain , it\\'s confusing , it rarely excites and it feels pretty redundant for most of its runtime , despite a pretty cool ending and explanation to all of the craziness that came before it . \\noh , and by the way , this is not a horror or teen slasher flick . . . it\\'s \\njust packaged to look that way because someone is apparently assuming that the genre is still hot with the kids . \\nit also wrapped production two years ago and has been sitting on the shelves ever since . \\nwhatever . . . skip \\nit ! \\nwhere\\'s joblo coming from ? \\na nightmare of elm street 3 ( 7/10 ) - blair witch 2 ( 7/10 ) - the crow ( 9/10 ) - the crow : salvation ( 4/10 ) - lost highway ( 10/10 ) - memento ( 10/10 ) - the others ( 9/10 ) - stir of echoes ( 8/10 ) \\n', 'neg'), ('the happy bastard\\'s quick movie review \\ndamn that y2k bug . \\nit\\'s got a head start in this movie starring jamie lee curtis and another baldwin brother ( william this time ) in a story regarding a crew of a tugboat that comes across a deserted russian tech ship that has a strangeness to it when they kick the power back on . \\nlittle do they know the power within . . . \\ngoing for the gore and bringing on a few action sequences here and there , virus still feels very empty , like a movie going for all flash and no substance . \\nwe don\\'t know why the crew was really out in the middle of nowhere , we don\\'t know the origin of what took over the ship ( just that a big pink flashy thing hit the mir ) , and , of course , we don\\'t know why donald sutherland is stumbling around drunkenly throughout . \\nhere , it\\'s just \" hey , let\\'s chase these people around with some robots \" . \\nthe acting is below average , even from the likes of curtis . \\nyou\\'re more likely to get a kick out of her work in halloween h20 . \\nsutherland is wasted and baldwin , well , he\\'s acting like a baldwin , of course . \\nthe real star here are stan winston\\'s robot design , some schnazzy cgi , and the occasional good gore shot , like picking into someone\\'s brain . \\nso , if robots and body parts really turn you on , here\\'s your movie . \\notherwise , it\\'s pretty much a sunken ship of a movie . \\n', 'neg')]\n"
          ]
        }
      ]
    },
    {
      "cell_type": "code",
      "source": [
        "from nltk.classify import NaiveBayesClassifier\n",
        "\n",
        "# create list of stopwords\n",
        "stop_words = stopwords.words('english')\n",
        "\n",
        "# remove stopwords and convert to lowercase\n",
        "def preprocess(text):\n",
        "    tokens = word_tokenize(text)\n",
        "    filtered_tokens = [token.lower() for token in tokens if token.lower() not in stop_words and token.isalpha()]\n",
        "    return filtered_tokens\n",
        "\n",
        "# create frequency distribution of most common words\n",
        "all_words = []\n",
        "for fileid in movie_reviews.fileids():\n",
        "    all_words += preprocess(movie_reviews.raw(fileid))\n",
        "\n",
        "fdist = FreqDist(all_words)\n",
        "print(fdist.most_common(10))\n",
        "\n",
        "# create feature set of most common words\n",
        "num_features = 2000\n",
        "top_words = [word for word, freq in fdist.most_common(num_features)]\n",
        "feature_set = []\n",
        "for fileid in movie_reviews.fileids():\n",
        "    category = movie_reviews.categories(fileid)[0]\n",
        "    words = preprocess(movie_reviews.raw(fileid))\n",
        "    features = {}\n",
        "    for word in top_words:\n",
        "        features[word] = words.count(word)\n",
        "    feature_set.append((features, category))\n",
        "    \n",
        "# shuffle feature set\n",
        "random.shuffle(feature_set)\n",
        "\n",
        "# split feature set into training and test sets\n",
        "split_point = int(0.8 * len(feature_set))\n",
        "train_set = feature_set[:split_point]\n",
        "test_set = feature_set[split_point:]\n",
        "\n",
        "# train naive Bayes classifier\n",
        "classifier = NaiveBayesClassifier.train(train_set)\n",
        "\n",
        "# test classifier on test set\n",
        "accuracy = nltk.classify.accuracy(classifier, test_set)\n",
        "print(\"Accuracy:\", accuracy)\n",
        "\n",
        "# show most informative features\n",
        "classifier.show_most_informative_features(10)\n"
      ],
      "metadata": {
        "colab": {
          "base_uri": "https://localhost:8080/"
        },
        "id": "aqglWu5VY8W_",
        "outputId": "bd4bb252-6aaa-4ffe-b6ef-04414fef9924"
      },
      "id": "aqglWu5VY8W_",
      "execution_count": null,
      "outputs": [
        {
          "output_type": "stream",
          "name": "stdout",
          "text": [
            "[('film', 9443), ('movie', 5671), ('one', 5582), ('like', 3547), ('even', 2556), ('good', 2316), ('time', 2282), ('would', 2264), ('story', 2146), ('much', 2024)]\n",
            "Accuracy: 0.7925\n",
            "Most Informative Features\n",
            "                  stupid = 2                 neg : pos    =     18.8 : 1.0\n",
            "               wonderful = 2                 pos : neg    =     14.0 : 1.0\n",
            "                  boring = 2                 neg : pos    =     11.3 : 1.0\n",
            "             outstanding = 1                 pos : neg    =      9.1 : 1.0\n",
            "                   ideas = 2                 neg : pos    =      7.9 : 1.0\n",
            "                   great = 4                 pos : neg    =      7.6 : 1.0\n",
            "                 country = 2                 pos : neg    =      7.5 : 1.0\n",
            "                   theme = 2                 pos : neg    =      7.5 : 1.0\n",
            "                     bad = 4                 neg : pos    =      7.2 : 1.0\n",
            "                  murphy = 1                 pos : neg    =      6.8 : 1.0\n"
          ]
        }
      ]
    },
    {
      "cell_type": "code",
      "source": [
        "fdist = FreqDist(all_words)\n",
        "print(fdist.most_common(30))\n",
        "\n",
        "# create feature set of most common words\n",
        "num_features = 2000\n",
        "top_words = [word for word, freq in fdist.most_common(num_features)]\n",
        "feature_set = []\n",
        "for fileid in movie_reviews.fileids():\n",
        "    category = movie_reviews.categories(fileid)[0]\n",
        "    words = preprocess(movie_reviews.raw(fileid))\n",
        "    features = {}\n",
        "    for word in top_words:\n",
        "        features[word] = words.count(word)\n",
        "    feature_set.append((features, category))\n",
        "    \n",
        "# shuffle feature set\n",
        "random.shuffle(feature_set)\n",
        "\n",
        "# split feature set into training and test sets\n",
        "split_point = int(0.8 * len(feature_set))\n",
        "train_set = feature_set[:split_point]\n",
        "test_set = feature_set[split_point:]\n",
        "\n",
        "# train naive Bayes classifier\n",
        "classifier = NaiveBayesClassifier.train(train_set)\n",
        "\n",
        "# test classifier on test set\n",
        "accuracy = nltk.classify.accuracy(classifier, test_set)\n",
        "print(\"Accuracy:\", accuracy)\n",
        "\n",
        "# show most informative features\n",
        "classifier.show_most_informative_features(30)"
      ],
      "metadata": {
        "colab": {
          "base_uri": "https://localhost:8080/"
        },
        "id": "zzF8UOYRY9y8",
        "outputId": "8910d686-893b-4d3d-b830-719985f491fc"
      },
      "id": "zzF8UOYRY9y8",
      "execution_count": null,
      "outputs": [
        {
          "output_type": "stream",
          "name": "stdout",
          "text": [
            "[('film', 9443), ('movie', 5671), ('one', 5582), ('like', 3547), ('even', 2556), ('good', 2316), ('time', 2282), ('would', 2264), ('story', 2146), ('much', 2024), ('character', 1996), ('also', 1965), ('get', 1925), ('characters', 1858), ('two', 1827), ('first', 1769), ('see', 1731), ('way', 1669), ('well', 1656), ('could', 1609), ('make', 1593), ('really', 1556), ('films', 1520), ('little', 1490), ('life', 1483), ('plot', 1460), ('people', 1448), ('scene', 1377), ('bad', 1375), ('never', 1361)]\n",
            "Accuracy: 0.8\n",
            "Most Informative Features\n",
            "                   worst = 2                 neg : pos    =     19.8 : 1.0\n",
            "                   great = 4                 pos : neg    =     14.0 : 1.0\n",
            "              apparently = 2                 neg : pos    =     11.4 : 1.0\n",
            "               wonderful = 2                 pos : neg    =     11.3 : 1.0\n",
            "                    best = 4                 pos : neg    =     11.3 : 1.0\n",
            "                  stupid = 2                 neg : pos    =      9.9 : 1.0\n",
            "                  boring = 2                 neg : pos    =      9.6 : 1.0\n",
            "             outstanding = 1                 pos : neg    =      8.9 : 1.0\n",
            "                terrific = 2                 pos : neg    =      8.5 : 1.0\n",
            "                 country = 2                 pos : neg    =      8.5 : 1.0\n",
            "                   dream = 2                 pos : neg    =      8.5 : 1.0\n",
            "             wonderfully = 1                 pos : neg    =      8.1 : 1.0\n",
            "                  giving = 2                 pos : neg    =      7.9 : 1.0\n",
            "                supposed = 2                 neg : pos    =      7.7 : 1.0\n",
            "                  murphy = 1                 pos : neg    =      7.6 : 1.0\n",
            "                 towards = 2                 pos : neg    =      7.2 : 1.0\n",
            "                 clearly = 2                 pos : neg    =      7.2 : 1.0\n",
            "                    gags = 2                 neg : pos    =      6.8 : 1.0\n",
            "                    mess = 2                 neg : pos    =      6.8 : 1.0\n",
            "               memorable = 2                 pos : neg    =      6.5 : 1.0\n",
            "                  parody = 2                 pos : neg    =      6.5 : 1.0\n",
            "                  person = 3                 pos : neg    =      6.5 : 1.0\n",
            "                    dark = 3                 pos : neg    =      6.5 : 1.0\n",
            "               animation = 3                 pos : neg    =      6.5 : 1.0\n",
            "                   worse = 2                 neg : pos    =      6.4 : 1.0\n",
            "               excellent = 2                 pos : neg    =      6.4 : 1.0\n",
            "                     bad = 6                 neg : pos    =      6.2 : 1.0\n",
            "                 captain = 2                 neg : pos    =      6.2 : 1.0\n",
            "              ridiculous = 2                 neg : pos    =      6.2 : 1.0\n",
            "                   white = 2                 neg : pos    =      6.0 : 1.0\n"
          ]
        }
      ]
    },
    {
      "cell_type": "code",
      "source": [
        "fdist = FreqDist(all_words)\n",
        "print(fdist.most_common(30))\n",
        "\n",
        "# create feature set of most common words\n",
        "num_features = 2000\n",
        "top_words = [word for word, freq in fdist.most_common(num_features)]\n",
        "feature_set = []\n",
        "for fileid in movie_reviews.fileids():\n",
        "    category = movie_reviews.categories(fileid)[0]\n",
        "    words = preprocess(movie_reviews.raw(fileid))\n",
        "    features = {}\n",
        "    for word in top_words:\n",
        "        features[word] = words.count(word)\n",
        "    feature_set.append((features, category))\n",
        "    \n",
        "# shuffle feature set\n",
        "random.shuffle(feature_set)\n",
        "\n",
        "# split feature set into training and test sets\n",
        "split_point = int(0.8 * len(feature_set))\n",
        "train_set = feature_set[:split_point]\n",
        "test_set = feature_set[split_point:]\n",
        "\n",
        "# train naive Bayes classifier\n",
        "classifier = NaiveBayesClassifier.train(train_set)\n",
        "\n",
        "# test classifier on test set\n",
        "accuracy = nltk.classify.accuracy(classifier, test_set)\n",
        "print(\"Accuracy:\", accuracy)\n",
        "\n",
        "# show most informative features\n",
        "classifier.show_most_informative_features(10)"
      ],
      "metadata": {
        "colab": {
          "base_uri": "https://localhost:8080/"
        },
        "id": "tdHB7mDxaLWU",
        "outputId": "5d30e007-06c3-4485-982e-62ea5c174dd7"
      },
      "id": "tdHB7mDxaLWU",
      "execution_count": null,
      "outputs": [
        {
          "output_type": "stream",
          "name": "stdout",
          "text": [
            "[('film', 9443), ('movie', 5671), ('one', 5582), ('like', 3547), ('even', 2556), ('good', 2316), ('time', 2282), ('would', 2264), ('story', 2146), ('much', 2024), ('character', 1996), ('also', 1965), ('get', 1925), ('characters', 1858), ('two', 1827), ('first', 1769), ('see', 1731), ('way', 1669), ('well', 1656), ('could', 1609), ('make', 1593), ('really', 1556), ('films', 1520), ('little', 1490), ('life', 1483), ('plot', 1460), ('people', 1448), ('scene', 1377), ('bad', 1375), ('never', 1361)]\n",
            "Accuracy: 0.765\n",
            "Most Informative Features\n",
            "               wonderful = 2                 pos : neg    =     11.1 : 1.0\n",
            "                    best = 4                 pos : neg    =     11.1 : 1.0\n",
            "                  boring = 2                 neg : pos    =     10.1 : 1.0\n",
            "                  stupid = 2                 neg : pos    =     10.1 : 1.0\n",
            "                   worst = 2                 neg : pos    =      9.8 : 1.0\n",
            "             outstanding = 1                 pos : neg    =      9.7 : 1.0\n",
            "                   great = 4                 pos : neg    =      8.7 : 1.0\n",
            "                previous = 2                 pos : neg    =      8.4 : 1.0\n",
            "                 country = 2                 pos : neg    =      7.7 : 1.0\n",
            "                  system = 2                 pos : neg    =      7.1 : 1.0\n"
          ]
        }
      ]
    },
    {
      "cell_type": "code",
      "source": [],
      "metadata": {
        "id": "eITGk-lbakzd"
      },
      "id": "eITGk-lbakzd",
      "execution_count": null,
      "outputs": []
    }
  ],
  "metadata": {
    "kernelspec": {
      "display_name": "Python 3 (ipykernel)",
      "language": "python",
      "name": "python3"
    },
    "language_info": {
      "codemirror_mode": {
        "name": "ipython",
        "version": 3
      },
      "file_extension": ".py",
      "mimetype": "text/x-python",
      "name": "python",
      "nbconvert_exporter": "python",
      "pygments_lexer": "ipython3",
      "version": "3.9.12"
    },
    "colab": {
      "provenance": []
    }
  },
  "nbformat": 4,
  "nbformat_minor": 5
}